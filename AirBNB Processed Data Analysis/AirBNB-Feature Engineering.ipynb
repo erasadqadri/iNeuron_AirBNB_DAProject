{
 "cells": [
  {
   "cell_type": "markdown",
   "metadata": {},
   "source": [
    "# Applying Feature Engineering for AirBNB data:"
   ]
  },
  {
   "cell_type": "code",
   "execution_count": 1,
   "metadata": {},
   "outputs": [
    {
     "name": "stdout",
     "output_type": "stream",
     "text": [
      "    room_id  survey_id   host_id    room_type  country       city  borough  \\\n",
      "0  10176931       1476  49180562  Shared room      NaN  Amsterdam      NaN   \n",
      "1   8935871       1476  46718394  Shared room      NaN  Amsterdam      NaN   \n",
      "2  14011697       1476  10346595  Shared room      NaN  Amsterdam      NaN   \n",
      "3   6137978       1476   8685430  Shared room      NaN  Amsterdam      NaN   \n",
      "4  18630616       1476  70191803  Shared room      NaN  Amsterdam      NaN   \n",
      "\n",
      "              neighborhood  reviews  overall_satisfaction  accommodates  \\\n",
      "0  De Pijp / Rivierenbuurt        7                   4.5             2   \n",
      "1             Centrum West       45                   4.5             4   \n",
      "2          Watergraafsmeer        1                   0.0             3   \n",
      "3             Centrum West        7                   5.0             4   \n",
      "4   De Baarsjes / Oud West        1                   0.0             2   \n",
      "\n",
      "   bedrooms  bathrooms  price  minstay  \\\n",
      "0       1.0        NaN  156.0      NaN   \n",
      "1       1.0        NaN  126.0      NaN   \n",
      "2       1.0        NaN  132.0      NaN   \n",
      "3       1.0        NaN  121.0      NaN   \n",
      "4       1.0        NaN   93.0      NaN   \n",
      "\n",
      "                                             name               last_modified  \\\n",
      "0        Red Light/ Canal view apartment (Shared)  2017-07-23 13:06:27.391699   \n",
      "1  Sunny and Cozy Living room in quite neighbours  2017-07-23 13:06:23.607187   \n",
      "2                                       Amsterdam  2017-07-23 13:06:23.603546   \n",
      "3                    Canal boat RIDE in Amsterdam  2017-07-23 13:06:22.689787   \n",
      "4    One room for rent in a three room appartment  2017-07-23 13:06:19.681469   \n",
      "\n",
      "    latitude  longitude                                           location  \n",
      "0  52.356209   4.887491  0101000020E610000033FAD170CA8C13403BC5AA41982D...  \n",
      "1  52.378518   4.896120  0101000020E6100000842A357BA095134042791F477330...  \n",
      "2  52.338811   4.943592  0101000020E6100000A51133FB3CC613403543AA285E2B...  \n",
      "3  52.376319   4.890028  0101000020E6100000DF180280638F134085EE92382B30...  \n",
      "4  52.370384   4.852873  0101000020E6100000CD902A8A57691340187B2FBE682F...  \n"
     ]
    }
   ],
   "source": [
    "import pandas as pd\n",
    "df = pd.read_csv(\"airbnb prices.csv\")\n",
    "print(df.head())"
   ]
  },
  {
   "cell_type": "code",
   "execution_count": 2,
   "metadata": {},
   "outputs": [
    {
     "data": {
      "text/plain": [
       "(18723, 20)"
      ]
     },
     "execution_count": 2,
     "metadata": {},
     "output_type": "execute_result"
    }
   ],
   "source": [
    "df.shape"
   ]
  },
  {
   "cell_type": "markdown",
   "metadata": {},
   "source": [
    "### Shape: 20 columns and 18723 rows"
   ]
  },
  {
   "cell_type": "code",
   "execution_count": 3,
   "metadata": {},
   "outputs": [
    {
     "data": {
      "text/plain": [
       "room_id                     0\n",
       "survey_id                   0\n",
       "host_id                     0\n",
       "room_type                   0\n",
       "country                 18723\n",
       "city                        0\n",
       "borough                 18723\n",
       "neighborhood                0\n",
       "reviews                     0\n",
       "overall_satisfaction        0\n",
       "accommodates                0\n",
       "bedrooms                    0\n",
       "bathrooms               18723\n",
       "price                       0\n",
       "minstay                 18723\n",
       "name                       52\n",
       "last_modified               0\n",
       "latitude                    0\n",
       "longitude                   0\n",
       "location                    0\n",
       "dtype: int64"
      ]
     },
     "execution_count": 3,
     "metadata": {},
     "output_type": "execute_result"
    }
   ],
   "source": [
    "df.isnull().sum()"
   ]
  },
  {
   "cell_type": "markdown",
   "metadata": {},
   "source": [
    "### from above observation, we can see that country, borough, bathrooms and minstay columns have complete missing (nan) values therefore i'll simply have to drop those colummns"
   ]
  },
  {
   "cell_type": "code",
   "execution_count": 4,
   "metadata": {},
   "outputs": [
    {
     "name": "stdout",
     "output_type": "stream",
     "text": [
      "    room_id  survey_id   host_id    room_type       city  \\\n",
      "0  10176931       1476  49180562  Shared room  Amsterdam   \n",
      "1   8935871       1476  46718394  Shared room  Amsterdam   \n",
      "2  14011697       1476  10346595  Shared room  Amsterdam   \n",
      "3   6137978       1476   8685430  Shared room  Amsterdam   \n",
      "4  18630616       1476  70191803  Shared room  Amsterdam   \n",
      "\n",
      "              neighborhood  reviews  overall_satisfaction  accommodates  \\\n",
      "0  De Pijp / Rivierenbuurt        7                   4.5             2   \n",
      "1             Centrum West       45                   4.5             4   \n",
      "2          Watergraafsmeer        1                   0.0             3   \n",
      "3             Centrum West        7                   5.0             4   \n",
      "4   De Baarsjes / Oud West        1                   0.0             2   \n",
      "\n",
      "   bedrooms  price                                            name  \\\n",
      "0       1.0  156.0        Red Light/ Canal view apartment (Shared)   \n",
      "1       1.0  126.0  Sunny and Cozy Living room in quite neighbours   \n",
      "2       1.0  132.0                                       Amsterdam   \n",
      "3       1.0  121.0                    Canal boat RIDE in Amsterdam   \n",
      "4       1.0   93.0    One room for rent in a three room appartment   \n",
      "\n",
      "                last_modified   latitude  longitude  \\\n",
      "0  2017-07-23 13:06:27.391699  52.356209   4.887491   \n",
      "1  2017-07-23 13:06:23.607187  52.378518   4.896120   \n",
      "2  2017-07-23 13:06:23.603546  52.338811   4.943592   \n",
      "3  2017-07-23 13:06:22.689787  52.376319   4.890028   \n",
      "4  2017-07-23 13:06:19.681469  52.370384   4.852873   \n",
      "\n",
      "                                            location  \n",
      "0  0101000020E610000033FAD170CA8C13403BC5AA41982D...  \n",
      "1  0101000020E6100000842A357BA095134042791F477330...  \n",
      "2  0101000020E6100000A51133FB3CC613403543AA285E2B...  \n",
      "3  0101000020E6100000DF180280638F134085EE92382B30...  \n",
      "4  0101000020E6100000CD902A8A57691340187B2FBE682F...  \n"
     ]
    }
   ],
   "source": [
    "df.drop(['country','borough','bathrooms','minstay'], axis = 1, inplace = True)\n",
    "print(df.head())"
   ]
  },
  {
   "cell_type": "code",
   "execution_count": 5,
   "metadata": {},
   "outputs": [
    {
     "data": {
      "text/plain": [
       "(18723, 16)"
      ]
     },
     "execution_count": 5,
     "metadata": {},
     "output_type": "execute_result"
    }
   ],
   "source": [
    "df.shape"
   ]
  },
  {
   "cell_type": "markdown",
   "metadata": {},
   "source": [
    "### Shape: 16 columns and 18723 rows"
   ]
  },
  {
   "cell_type": "code",
   "execution_count": 6,
   "metadata": {},
   "outputs": [
    {
     "data": {
      "text/plain": [
       "room_id                  0\n",
       "survey_id                0\n",
       "host_id                  0\n",
       "room_type                0\n",
       "city                     0\n",
       "neighborhood             0\n",
       "reviews                  0\n",
       "overall_satisfaction     0\n",
       "accommodates             0\n",
       "bedrooms                 0\n",
       "price                    0\n",
       "name                    52\n",
       "last_modified            0\n",
       "latitude                 0\n",
       "longitude                0\n",
       "location                 0\n",
       "dtype: int64"
      ]
     },
     "execution_count": 6,
     "metadata": {},
     "output_type": "execute_result"
    }
   ],
   "source": [
    "df.isnull().sum()"
   ]
  },
  {
   "cell_type": "markdown",
   "metadata": {},
   "source": [
    "### Here we can observe that Name variable has still 52 empty (nan) value"
   ]
  },
  {
   "cell_type": "markdown",
   "metadata": {},
   "source": [
    "# Handling (Droping) missing values in Name variable:"
   ]
  },
  {
   "cell_type": "code",
   "execution_count": 7,
   "metadata": {},
   "outputs": [
    {
     "name": "stdout",
     "output_type": "stream",
     "text": [
      "    room_id  survey_id   host_id    room_type       city  \\\n",
      "0  10176931       1476  49180562  Shared room  Amsterdam   \n",
      "1   8935871       1476  46718394  Shared room  Amsterdam   \n",
      "2  14011697       1476  10346595  Shared room  Amsterdam   \n",
      "3   6137978       1476   8685430  Shared room  Amsterdam   \n",
      "4  18630616       1476  70191803  Shared room  Amsterdam   \n",
      "\n",
      "              neighborhood  reviews  overall_satisfaction  accommodates  \\\n",
      "0  De Pijp / Rivierenbuurt        7                   4.5             2   \n",
      "1             Centrum West       45                   4.5             4   \n",
      "2          Watergraafsmeer        1                   0.0             3   \n",
      "3             Centrum West        7                   5.0             4   \n",
      "4   De Baarsjes / Oud West        1                   0.0             2   \n",
      "\n",
      "   bedrooms  price                                            name  \\\n",
      "0       1.0  156.0        Red Light/ Canal view apartment (Shared)   \n",
      "1       1.0  126.0  Sunny and Cozy Living room in quite neighbours   \n",
      "2       1.0  132.0                                       Amsterdam   \n",
      "3       1.0  121.0                    Canal boat RIDE in Amsterdam   \n",
      "4       1.0   93.0    One room for rent in a three room appartment   \n",
      "\n",
      "                last_modified   latitude  longitude  \\\n",
      "0  2017-07-23 13:06:27.391699  52.356209   4.887491   \n",
      "1  2017-07-23 13:06:23.607187  52.378518   4.896120   \n",
      "2  2017-07-23 13:06:23.603546  52.338811   4.943592   \n",
      "3  2017-07-23 13:06:22.689787  52.376319   4.890028   \n",
      "4  2017-07-23 13:06:19.681469  52.370384   4.852873   \n",
      "\n",
      "                                            location  \n",
      "0  0101000020E610000033FAD170CA8C13403BC5AA41982D...  \n",
      "1  0101000020E6100000842A357BA095134042791F477330...  \n",
      "2  0101000020E6100000A51133FB3CC613403543AA285E2B...  \n",
      "3  0101000020E6100000DF180280638F134085EE92382B30...  \n",
      "4  0101000020E6100000CD902A8A57691340187B2FBE682F...  \n"
     ]
    }
   ],
   "source": [
    "df = df.dropna()\n",
    "print(df.head())"
   ]
  },
  {
   "cell_type": "code",
   "execution_count": 8,
   "metadata": {},
   "outputs": [
    {
     "data": {
      "text/plain": [
       "(18671, 16)"
      ]
     },
     "execution_count": 8,
     "metadata": {},
     "output_type": "execute_result"
    }
   ],
   "source": [
    "df.shape"
   ]
  },
  {
   "cell_type": "markdown",
   "metadata": {},
   "source": [
    "### Shape: 16 columns and 18671 rows"
   ]
  },
  {
   "cell_type": "code",
   "execution_count": 9,
   "metadata": {},
   "outputs": [
    {
     "data": {
      "text/plain": [
       "room_id                 0\n",
       "survey_id               0\n",
       "host_id                 0\n",
       "room_type               0\n",
       "city                    0\n",
       "neighborhood            0\n",
       "reviews                 0\n",
       "overall_satisfaction    0\n",
       "accommodates            0\n",
       "bedrooms                0\n",
       "price                   0\n",
       "name                    0\n",
       "last_modified           0\n",
       "latitude                0\n",
       "longitude               0\n",
       "location                0\n",
       "dtype: int64"
      ]
     },
     "execution_count": 9,
     "metadata": {},
     "output_type": "execute_result"
    }
   ],
   "source": [
    "df.isnull().sum()"
   ]
  },
  {
   "cell_type": "markdown",
   "metadata": {},
   "source": [
    "# Now we have completely processed our raw data which now contains zero missing values. Therefore now I can convert it into csv file which can be used for analysis using any BI tool (Tableau / Power BI)"
   ]
  },
  {
   "cell_type": "markdown",
   "metadata": {},
   "source": [
    "### converting df to csv file"
   ]
  },
  {
   "cell_type": "code",
   "execution_count": 10,
   "metadata": {},
   "outputs": [],
   "source": [
    "df.to_csv('AirBNB.csv', index = False)"
   ]
  }
 ],
 "metadata": {
  "kernelspec": {
   "display_name": "Python 3",
   "language": "python",
   "name": "python3"
  },
  "language_info": {
   "codemirror_mode": {
    "name": "ipython",
    "version": 3
   },
   "file_extension": ".py",
   "mimetype": "text/x-python",
   "name": "python",
   "nbconvert_exporter": "python",
   "pygments_lexer": "ipython3",
   "version": "3.8.3"
  }
 },
 "nbformat": 4,
 "nbformat_minor": 4
}
