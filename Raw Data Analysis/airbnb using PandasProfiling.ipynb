{
 "cells": [
  {
   "cell_type": "markdown",
   "metadata": {},
   "source": [
    "# Analysis of airbnb using Pandas Profiling"
   ]
  },
  {
   "cell_type": "code",
   "execution_count": 1,
   "metadata": {},
   "outputs": [],
   "source": [
    "import pandas as pd\n",
    "from pandas_profiling import ProfileReport"
   ]
  },
  {
   "cell_type": "code",
   "execution_count": 2,
   "metadata": {},
   "outputs": [
    {
     "name": "stdout",
     "output_type": "stream",
     "text": [
      "          survey_id    host_id     room_type  country       city  borough  \\\n",
      "room_id                                                                     \n",
      "10176931       1476   49180562   Shared room      NaN  Amsterdam      NaN   \n",
      "8935871        1476   46718394   Shared room      NaN  Amsterdam      NaN   \n",
      "14011697       1476   10346595   Shared room      NaN  Amsterdam      NaN   \n",
      "6137978        1476    8685430   Shared room      NaN  Amsterdam      NaN   \n",
      "18630616       1476   70191803   Shared room      NaN  Amsterdam      NaN   \n",
      "...             ...        ...           ...      ...        ...      ...   \n",
      "17789893       1476   47501089  Private room      NaN  Amsterdam      NaN   \n",
      "16877166       1476   67093870  Private room      NaN  Amsterdam      NaN   \n",
      "19859427       1476   29724632  Private room      NaN  Amsterdam      NaN   \n",
      "17132164       1476  115156569  Private room      NaN  Amsterdam      NaN   \n",
      "7605782        1476   39503013  Private room      NaN  Amsterdam      NaN   \n",
      "\n",
      "                     neighborhood  reviews  overall_satisfaction  \\\n",
      "room_id                                                            \n",
      "10176931  De Pijp / Rivierenbuurt        7                   4.5   \n",
      "8935871              Centrum West       45                   4.5   \n",
      "14011697          Watergraafsmeer        1                   0.0   \n",
      "6137978              Centrum West        7                   5.0   \n",
      "18630616   De Baarsjes / Oud West        1                   0.0   \n",
      "...                           ...      ...                   ...   \n",
      "17789893          Bijlmer Centrum       10                   5.0   \n",
      "16877166          Bijlmer Centrum        6                   5.0   \n",
      "19859427  Geuzenveld / Slotermeer        0                   0.0   \n",
      "17132164             Centrum West       13                   4.5   \n",
      "7605782              Centrum West      113                   4.5   \n",
      "\n",
      "          accommodates  bedrooms  bathrooms  price  minstay  \\\n",
      "room_id                                                       \n",
      "10176931             2       1.0        NaN  156.0      NaN   \n",
      "8935871              4       1.0        NaN  126.0      NaN   \n",
      "14011697             3       1.0        NaN  132.0      NaN   \n",
      "6137978              4       1.0        NaN  121.0      NaN   \n",
      "18630616             2       1.0        NaN   93.0      NaN   \n",
      "...                ...       ...        ...    ...      ...   \n",
      "17789893             3       1.0        NaN   32.0      NaN   \n",
      "16877166             4       1.0        NaN   24.0      NaN   \n",
      "19859427             1       1.0        NaN   38.0      NaN   \n",
      "17132164             2       1.0        NaN   36.0      NaN   \n",
      "7605782              2       1.0        NaN   35.0      NaN   \n",
      "\n",
      "                                                    name  \\\n",
      "room_id                                                    \n",
      "10176931        Red Light/ Canal view apartment (Shared)   \n",
      "8935871   Sunny and Cozy Living room in quite neighbours   \n",
      "14011697                                       Amsterdam   \n",
      "6137978                     Canal boat RIDE in Amsterdam   \n",
      "18630616    One room for rent in a three room appartment   \n",
      "...                                                  ...   \n",
      "17789893   1-3 pers. Cozy Rm AFAS Live, ArenA, ZIGGODOME   \n",
      "16877166                Modern Room by Arena, ZIGGO, HmH   \n",
      "19859427                             Private single room   \n",
      "17132164     City Center studio in Touristic Amsterdam 1   \n",
      "7605782                 I have a room available for rent   \n",
      "\n",
      "                       last_modified   latitude  longitude  \\\n",
      "room_id                                                      \n",
      "10176931  2017-07-23 13:06:27.391699  52.356209   4.887491   \n",
      "8935871   2017-07-23 13:06:23.607187  52.378518   4.896120   \n",
      "14011697  2017-07-23 13:06:23.603546  52.338811   4.943592   \n",
      "6137978   2017-07-23 13:06:22.689787  52.376319   4.890028   \n",
      "18630616  2017-07-23 13:06:19.681469  52.370384   4.852873   \n",
      "...                              ...        ...        ...   \n",
      "17789893  2017-07-22 16:05:14.158963  52.319794   4.955638   \n",
      "16877166  2017-07-22 16:05:14.151986  52.319080   4.954822   \n",
      "19859427  2017-07-22 16:05:14.149610  52.384028   4.838403   \n",
      "17132164  2017-07-22 16:05:14.146183  52.372120   4.890982   \n",
      "7605782   2017-07-22 16:05:12.257054  52.381392   4.899658   \n",
      "\n",
      "                                                   location  \n",
      "room_id                                                      \n",
      "10176931  0101000020E610000033FAD170CA8C13403BC5AA41982D...  \n",
      "8935871   0101000020E6100000842A357BA095134042791F477330...  \n",
      "14011697  0101000020E6100000A51133FB3CC613403543AA285E2B...  \n",
      "6137978   0101000020E6100000DF180280638F134085EE92382B30...  \n",
      "18630616  0101000020E6100000CD902A8A57691340187B2FBE682F...  \n",
      "...                                                     ...  \n",
      "17789893  0101000020E6100000684293C492D2134080BA8102EF28...  \n",
      "16877166  0101000020E61000005801BEDBBCD1134062670A9DD728...  \n",
      "19859427  0101000020E61000002079E750865A1340C85F5AD42731...  \n",
      "17132164  0101000020E6100000774CDD955D9013400118CFA0A12F...  \n",
      "7605782   0101000020E6100000CD565EF23F9913405F7AFB73D130...  \n",
      "\n",
      "[18723 rows x 19 columns]\n"
     ]
    }
   ],
   "source": [
    "df = pd.read_csv(\"airbnb prices.csv\", index_col=0)\n",
    "print(df)"
   ]
  },
  {
   "cell_type": "code",
   "execution_count": 3,
   "metadata": {},
   "outputs": [
    {
     "data": {
      "application/vnd.jupyter.widget-view+json": {
       "model_id": "feb07aabf56f4dd98d88ad1c4d64931e",
       "version_major": 2,
       "version_minor": 0
      },
      "text/plain": [
       "Summarize dataset:   0%|          | 0/33 [00:00<?, ?it/s]"
      ]
     },
     "metadata": {},
     "output_type": "display_data"
    },
    {
     "name": "stderr",
     "output_type": "stream",
     "text": [
      "C:\\Users\\Dell\\anaconda3\\lib\\site-packages\\pandas_profiling\\model\\correlations.py:210: RuntimeWarning: invalid value encountered in greater_equal\n",
      "  bool_index = abs(correlation_matrix.values) >= threshold\n"
     ]
    },
    {
     "data": {
      "application/vnd.jupyter.widget-view+json": {
       "model_id": "2e7a61d0663c4026834f57151dfb1b89",
       "version_major": 2,
       "version_minor": 0
      },
      "text/plain": [
       "Generate report structure:   0%|          | 0/1 [00:00<?, ?it/s]"
      ]
     },
     "metadata": {},
     "output_type": "display_data"
    },
    {
     "data": {
      "application/vnd.jupyter.widget-view+json": {
       "model_id": "ae664297fa7449c69f917336843c65a6",
       "version_major": 2,
       "version_minor": 0
      },
      "text/plain": [
       "Render HTML:   0%|          | 0/1 [00:00<?, ?it/s]"
      ]
     },
     "metadata": {},
     "output_type": "display_data"
    },
    {
     "data": {
      "application/vnd.jupyter.widget-view+json": {
       "model_id": "a6959a8f0f464c9f9696d7329a5caf0f",
       "version_major": 2,
       "version_minor": 0
      },
      "text/plain": [
       "Export report to file:   0%|          | 0/1 [00:00<?, ?it/s]"
      ]
     },
     "metadata": {},
     "output_type": "display_data"
    }
   ],
   "source": [
    "report = ProfileReport(df)\n",
    "report.to_file(output_file='airbnb.html')"
   ]
  }
 ],
 "metadata": {
  "kernelspec": {
   "display_name": "Python 3",
   "language": "python",
   "name": "python3"
  },
  "language_info": {
   "codemirror_mode": {
    "name": "ipython",
    "version": 3
   },
   "file_extension": ".py",
   "mimetype": "text/x-python",
   "name": "python",
   "nbconvert_exporter": "python",
   "pygments_lexer": "ipython3",
   "version": "3.8.3"
  }
 },
 "nbformat": 4,
 "nbformat_minor": 4
}
